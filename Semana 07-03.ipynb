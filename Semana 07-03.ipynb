{
 "cells": [
  {
   "cell_type": "markdown",
   "id": "1852fc3d",
   "metadata": {},
   "source": [
    "# Semana 07\n",
    "Jefferson Daniel Justo Geri"
   ]
  },
  {
   "cell_type": "raw",
   "id": "3fc218dc",
   "metadata": {},
   "source": [
    "Temas:\n",
    "    1. Números\n",
    "    2. Variables\n",
    "    3. Manejo de Cadenas\n",
    "    4. Ingreso de Datos por el Teclado\n",
    "    5. Operadores"
   ]
  },
  {
   "cell_type": "markdown",
   "id": "bd588c2e",
   "metadata": {},
   "source": [
    "3. Manejo de Cadenas"
   ]
  },
  {
   "cell_type": "code",
   "execution_count": 10,
   "id": "23eca492",
   "metadata": {},
   "outputs": [
    {
     "data": {
      "text/plain": [
       "'Universidad Nacional Tecnologica de Lima Sur'"
      ]
     },
     "execution_count": 10,
     "metadata": {},
     "output_type": "execute_result"
    }
   ],
   "source": [
    "cadena = \"Universidad Nacional Tecnologica de Lima Sur\"\n",
    "cadena"
   ]
  },
  {
   "cell_type": "code",
   "execution_count": 11,
   "id": "34ac47b7",
   "metadata": {},
   "outputs": [],
   "source": [
    "#Universidad Nacional Tecnologica de Lima Sur\n",
    "#01234......\n",
    "#                                       -2 -1"
   ]
  },
  {
   "cell_type": "code",
   "execution_count": 12,
   "id": "84a8e427",
   "metadata": {},
   "outputs": [
    {
     "data": {
      "text/plain": [
       "'r'"
      ]
     },
     "execution_count": 12,
     "metadata": {},
     "output_type": "execute_result"
    }
   ],
   "source": [
    "cadena[5]"
   ]
  },
  {
   "cell_type": "code",
   "execution_count": 13,
   "id": "c808d3df",
   "metadata": {},
   "outputs": [
    {
     "data": {
      "text/plain": [
       "'d'"
      ]
     },
     "execution_count": 13,
     "metadata": {},
     "output_type": "execute_result"
    }
   ],
   "source": [
    "cadena[10]"
   ]
  },
  {
   "cell_type": "code",
   "execution_count": 14,
   "id": "cb2aec52",
   "metadata": {},
   "outputs": [
    {
     "data": {
      "text/plain": [
       "' '"
      ]
     },
     "execution_count": 14,
     "metadata": {},
     "output_type": "execute_result"
    }
   ],
   "source": [
    "cadena[11]"
   ]
  },
  {
   "cell_type": "code",
   "execution_count": 15,
   "id": "b013ebfe",
   "metadata": {},
   "outputs": [
    {
     "data": {
      "text/plain": [
       "'a'"
      ]
     },
     "execution_count": 15,
     "metadata": {},
     "output_type": "execute_result"
    }
   ],
   "source": [
    "#¿Que me mostrara?\n",
    "cadena[-5]"
   ]
  },
  {
   "cell_type": "code",
   "execution_count": 16,
   "id": "83d8b101",
   "metadata": {},
   "outputs": [
    {
     "data": {
      "text/plain": [
       "'T'"
      ]
     },
     "execution_count": 16,
     "metadata": {},
     "output_type": "execute_result"
    }
   ],
   "source": [
    "cadena[21]"
   ]
  },
  {
   "cell_type": "code",
   "execution_count": 17,
   "id": "c97f6c49",
   "metadata": {},
   "outputs": [
    {
     "data": {
      "text/plain": [
       "'T'"
      ]
     },
     "execution_count": 17,
     "metadata": {},
     "output_type": "execute_result"
    }
   ],
   "source": [
    "#También lo puedo mostrar accediendo de manera inversa\n",
    "cadena[-23]"
   ]
  },
  {
   "cell_type": "code",
   "execution_count": 18,
   "id": "1cb9ff2f",
   "metadata": {},
   "outputs": [
    {
     "data": {
      "text/plain": [
       "'versi'"
      ]
     },
     "execution_count": 18,
     "metadata": {},
     "output_type": "execute_result"
    }
   ],
   "source": [
    "#Para mostrar una subcadena [desde, hasta una antes]\n",
    "#En java era substring()\n",
    "cadena[3:8]"
   ]
  },
  {
   "cell_type": "code",
   "execution_count": 19,
   "id": "5e5a1671",
   "metadata": {},
   "outputs": [
    {
     "data": {
      "text/plain": [
       "44"
      ]
     },
     "execution_count": 19,
     "metadata": {},
     "output_type": "execute_result"
    }
   ],
   "source": [
    "#Para saber el tamaño de una cadena utilizaremos len()\n",
    "#incluye espacios en blanco\n",
    "len(cadena)"
   ]
  },
  {
   "cell_type": "code",
   "execution_count": 20,
   "id": "a61d0267",
   "metadata": {},
   "outputs": [
    {
     "data": {
      "text/plain": [
       "'UNIVERSIDAD NACIONAL TECNOLOGICA DE LIMA SUR'"
      ]
     },
     "execution_count": 20,
     "metadata": {},
     "output_type": "execute_result"
    }
   ],
   "source": [
    "#Para mostrar una cadena en mayuscula utilizamos upper()\n",
    "cadena.upper()"
   ]
  },
  {
   "cell_type": "code",
   "execution_count": 21,
   "id": "c246a6d4",
   "metadata": {},
   "outputs": [
    {
     "data": {
      "text/plain": [
       "'Universidad Nacional Tecnologica de Lima Sur'"
      ]
     },
     "execution_count": 21,
     "metadata": {},
     "output_type": "execute_result"
    }
   ],
   "source": [
    "#Ojo... Solo lo muestra, porque el original sigue siendo igual\n",
    "cadena"
   ]
  },
  {
   "cell_type": "code",
   "execution_count": 22,
   "id": "4c9b887f",
   "metadata": {},
   "outputs": [
    {
     "data": {
      "text/plain": [
       "'universidad nacional tecnologica de lima sur'"
      ]
     },
     "execution_count": 22,
     "metadata": {},
     "output_type": "execute_result"
    }
   ],
   "source": [
    "#Para mostrar una cadena en minuscula utilizamos lower()\n",
    "cadena.lower()"
   ]
  },
  {
   "cell_type": "code",
   "execution_count": 23,
   "id": "4e6cf187",
   "metadata": {},
   "outputs": [
    {
     "data": {
      "text/plain": [
       "['Universidad', 'Nacional', 'Tecnologica', 'de', 'Lima', 'Sur']"
      ]
     },
     "execution_count": 23,
     "metadata": {},
     "output_type": "execute_result"
    }
   ],
   "source": [
    "#Generar una lista a partir de una cadena. split()\n",
    "cadena.split()"
   ]
  },
  {
   "cell_type": "code",
   "execution_count": 26,
   "id": "253dcf9a",
   "metadata": {},
   "outputs": [
    {
     "data": {
      "text/plain": [
       "['Universid', 'd N', 'cion', 'l Tecnologic', ' de Lim', ' Sur']"
      ]
     },
     "execution_count": 26,
     "metadata": {},
     "output_type": "execute_result"
    }
   ],
   "source": [
    "#Genera una lista utilizando un criterio de separación a partir de una cadena. split()\n",
    "#En este caso vamos a generar una lista de toda la cadena, utilizando como criterio de separación la letra \"A\"\n",
    "cadena.split(\"a\")"
   ]
  },
  {
   "cell_type": "code",
   "execution_count": 27,
   "id": "7c645a1e",
   "metadata": {},
   "outputs": [
    {
     "name": "stdout",
     "output_type": "stream",
     "text": [
      "Buenas Tardes Jefferson Justo\n"
     ]
    }
   ],
   "source": [
    "#Forma clásica, concatenar con +\n",
    "nombre = \"Jefferson Justo\"\n",
    "print(\"Buenas Tardes \" + nombre)"
   ]
  },
  {
   "cell_type": "code",
   "execution_count": 28,
   "id": "ea6626bc",
   "metadata": {},
   "outputs": [
    {
     "name": "stdout",
     "output_type": "stream",
     "text": [
      "hola Pablo Lévano ya se que tienes 10 años\n"
     ]
    }
   ],
   "source": [
    "#utilizando el .format()\n",
    "nombre = \"Pablo Lévano\"\n",
    "edad = 10\n",
    "print(\"hola {} ya se que tienes {} años\".format(nombre, edad))"
   ]
  },
  {
   "cell_type": "code",
   "execution_count": 35,
   "id": "0fc0fa21",
   "metadata": {},
   "outputs": [
    {
     "name": "stdout",
     "output_type": "stream",
     "text": [
      "10/3 es = 3.3333333333333335 \n",
      "10/3 es = 3.333 \n"
     ]
    }
   ],
   "source": [
    "#Dar formato a números con muchos decimales\n",
    "resultado = 10/3\n",
    "print(\"10/3 es = {} \".format(resultado))\n",
    "print(\"10/3 es = {r:1.3f} \".format(r=resultado))"
   ]
  },
  {
   "cell_type": "code",
   "execution_count": 36,
   "id": "968fe733",
   "metadata": {},
   "outputs": [
    {
     "name": "stdout",
     "output_type": "stream",
     "text": [
      "buenos dias Daniel Lévano, ya se que tienes 8 años\n"
     ]
    }
   ],
   "source": [
    "#Dar formato con f\n",
    "#La función f, está disponible desde la version 3.6\n",
    "nombre = \"Daniel Lévano\"\n",
    "edad = 8\n",
    "print(f\"buenos dias {nombre}, ya se que tienes {edad} años\")"
   ]
  },
  {
   "cell_type": "code",
   "execution_count": 38,
   "id": "e8234c1c",
   "metadata": {},
   "outputs": [
    {
     "name": "stdout",
     "output_type": "stream",
     "text": [
      "10/3 es = 3.3333333333333335 \n",
      "10/3 es = 3.333 \n"
     ]
    }
   ],
   "source": [
    "#Dar formato a números con muchos decimales con f\n",
    "resultado = 10/3\n",
    "print(f\"10/3 es = {resultado} \")\n",
    "print(f\"10/3 es = {resultado:1.3f} \")"
   ]
  },
  {
   "cell_type": "code",
   "execution_count": null,
   "id": "567a0410",
   "metadata": {},
   "outputs": [],
   "source": []
  }
 ],
 "metadata": {
  "kernelspec": {
   "display_name": "Python 3 (ipykernel)",
   "language": "python",
   "name": "python3"
  },
  "language_info": {
   "codemirror_mode": {
    "name": "ipython",
    "version": 3
   },
   "file_extension": ".py",
   "mimetype": "text/x-python",
   "name": "python",
   "nbconvert_exporter": "python",
   "pygments_lexer": "ipython3",
   "version": "3.9.12"
  }
 },
 "nbformat": 4,
 "nbformat_minor": 5
}
